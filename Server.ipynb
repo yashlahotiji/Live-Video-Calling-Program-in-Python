{
 "cells": [
  {
   "cell_type": "code",
   "execution_count": null,
   "id": "285f8fd0",
   "metadata": {},
   "outputs": [],
   "source": [
    "import socket\n",
    "import numpy as np\n",
    "import cv2 as cv\n",
    "import threading #to run multiple functions at a time\n",
    "\n",
    "print('-------------------------------Server-----------------------------')\n",
    "s = socket.socket()\n",
    "s.bind((\"\", 5555))\n",
    "s.listen()\n",
    "session, address = s.accept() #accepting request from any server\n",
    "print(session.recv(2048)) \n",
    "ipcamip = 'http://192.168.0.103:8080/video' # using camera from IPCamera App #Launch Server from IPCam\n",
    "camera = cv.VideoCapture(ipcamip)\n",
    "\n",
    "def sender():\n",
    "    while True:\n",
    "        status, photo = camera.read()\n",
    "        photo = cv.resize(photo, (640, 480))\n",
    "        if status:\n",
    "            session.send(np.ndarray.tobytes(photo)) #converting numpy array to bytes so that we can send it to the receiver\n",
    "        else: \n",
    "            print(\"Image not found\")\n",
    "\n",
    "def receiver():\n",
    "    print(\"Entered Into Live Stream with Client\")\n",
    "    while True:\n",
    "        data = session.recv(100000000)\n",
    "        if(data == b'finished'):\n",
    "            print(\"Finished\")\n",
    "            camera.release()\n",
    "            session.close()\n",
    "        else:\n",
    "            photo =  np.frombuffer(data, dtype=np.uint8) #receving data in numpy form\n",
    "            if len(photo) == 640*480*3:\n",
    "                cv.imshow('From Client', photo.reshape(480, 640, 3))\n",
    "                if cv.waitKey(1) == 13:\n",
    "                    session.send(b'finished')\n",
    "                    camera.release()\n",
    "                    cv.destroyAllWindows()\n",
    "                    break\n",
    "            else:\n",
    "                print('Frames are getting lost')\n",
    "                \n",
    "threading.Thread(target=sender).start()\n",
    "threading.Thread(target=receiver).start()\n"
   ]
  },
  {
   "cell_type": "code",
   "execution_count": null,
   "id": "ca4a7ab1",
   "metadata": {},
   "outputs": [],
   "source": []
  }
 ],
 "metadata": {
  "kernelspec": {
   "display_name": "Python 3",
   "language": "python",
   "name": "python3"
  },
  "language_info": {
   "codemirror_mode": {
    "name": "ipython",
    "version": 3
   },
   "file_extension": ".py",
   "mimetype": "text/x-python",
   "name": "python",
   "nbconvert_exporter": "python",
   "pygments_lexer": "ipython3",
   "version": "3.8.8"
  }
 },
 "nbformat": 4,
 "nbformat_minor": 5
}
