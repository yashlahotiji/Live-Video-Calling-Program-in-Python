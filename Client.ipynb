{
 "cells": [
  {
   "cell_type": "code",
   "execution_count": null,
   "id": "6697ee85",
   "metadata": {},
   "outputs": [],
   "source": [
    "import socket\n",
    "import numpy as np\n",
    "import cv2 as cv\n",
    "import threading\n",
    "\n",
    "print('-------------------------------Client-----------------------------')\n",
    "\n",
    "# client program socket to connect to the server program\n",
    "s = socket.socket()\n",
    "s.bind((\"\", 6666))  # empty means local system\n",
    "server_ip = input(\"enter server ip: \")\n",
    "server_port = input(\"enter server port number: \")\n",
    "\n",
    "s.connect((server_ip, int(server_port))) \n",
    "s.send(b\"connected\")  # sending string as data\n",
    "camera = cv.VideoCapture(0) # starting the camera i.e. laptop webcam\n",
    "\n",
    "\n",
    "# Client works as a receiver\n",
    "def receiver():\n",
    "    print(\"Entered into live stream with Server\")\n",
    "    while True:\n",
    "        data = s.recv(100000000)  # receiving data with the size limit\n",
    "        if(data == b'finished'): # to stop receiving and stop camera\n",
    "            print(\"Finished\")\n",
    "            camera.release()\n",
    "            s.close()\n",
    "        else:  # converting the byte data into numpy array\n",
    "            photo =  np.frombuffer(data, dtype=np.uint8)\n",
    "            if len(photo) == 640*480*3: # changing the array shape and getting the video\n",
    "                cv.imshow('From Server', photo.reshape(480, 640, 3))\n",
    "                if cv.waitKey(1) == 13: # camera closing condition\n",
    "                    s.send(b'finished')\n",
    "                    camera.release()\n",
    "                    cv.destroyAllWindows()\n",
    "                    break\n",
    "            else:\n",
    "                print('Frames are getting lost')\n",
    "\n",
    "# Client works as a sender             \n",
    "def sender():\n",
    "    while True: \n",
    "        status, photo = camera.read()\n",
    "        photo = cv.resize(photo, (640, 480))\n",
    "        if status:\n",
    "            s.send(np.ndarray.tobytes(photo)) #converting numpy array into bytes so that we can send data\n",
    "        else: print(\"Image not found\")\n",
    "    camera.release()\n",
    "\n",
    "# threads to run both the functions\n",
    "threading.Thread(target=receiver).start()\n",
    "threading.Thread(target=sender).start()"
   ]
  },
  {
   "cell_type": "code",
   "execution_count": null,
   "id": "a065baa6",
   "metadata": {},
   "outputs": [],
   "source": []
  }
 ],
 "metadata": {
  "kernelspec": {
   "display_name": "Python 3",
   "language": "python",
   "name": "python3"
  },
  "language_info": {
   "codemirror_mode": {
    "name": "ipython",
    "version": 3
   },
   "file_extension": ".py",
   "mimetype": "text/x-python",
   "name": "python",
   "nbconvert_exporter": "python",
   "pygments_lexer": "ipython3",
   "version": "3.8.8"
  }
 },
 "nbformat": 4,
 "nbformat_minor": 5
}
